{
 "cells": [
  {
   "cell_type": "code",
   "execution_count": 3,
   "id": "b6621be4-0b76-4460-b46d-a245a4dfd098",
   "metadata": {},
   "outputs": [],
   "source": [
    "import numpy as np\n",
    "import scipy.stats as stats"
   ]
  },
  {
   "cell_type": "code",
   "execution_count": 5,
   "id": "a17ae780-c046-4273-a970-51d2c1c485a4",
   "metadata": {},
   "outputs": [
    {
     "name": "stdout",
     "output_type": "stream",
     "text": [
      "--- Chi-Square Test for Independence: Device Type vs. Customer Satisfaction ---\n",
      "\n",
      "Observed Frequencies Table:\n",
      "[[ 50  70]\n",
      " [ 80 100]\n",
      " [ 60  90]\n",
      " [ 30  50]\n",
      " [ 20  50]]\n"
     ]
    }
   ],
   "source": [
    "# --- Given Data (Observed Frequencies) ---\n",
    "# Rows represent Satisfaction Levels: Very Satisfied, Satisfied, Neutral, Unsatisfied, Very Unsatisfied\n",
    "# Columns represent Device Types: Smart Thermostat, Smart Light\n",
    "observed_data = np.array([\n",
    "    [50, 70],   # Very Satisfied\n",
    "    [80, 100],  # Satisfied\n",
    "    [60, 90],   # Neutral\n",
    "    [30, 50],   # Unsatisfied\n",
    "    [20, 50]    # Very Unsatisfied\n",
    "])\n",
    "\n",
    "alpha = 0.05  # Significance level\n",
    "print(\"--- Chi-Square Test for Independence: Device Type vs. Customer Satisfaction ---\")\n",
    "print(\"\\nObserved Frequencies Table:\")\n",
    "print(observed_data)"
   ]
  },
  {
   "cell_type": "code",
   "execution_count": 7,
   "id": "b6b6a700-b6e7-429e-88a4-f5d8b4c7fd20",
   "metadata": {},
   "outputs": [
    {
     "name": "stdout",
     "output_type": "stream",
     "text": [
      "\n",
      "--- Task 1: Hypotheses Statement ---\n",
      "Null Hypothesis (H0): There is no significant association between the type of smart home device purchased and the customer's satisfaction level.\n",
      "    (i.e., Device Type and Customer Satisfaction are independent.)\n",
      "Alternative Hypothesis (Ha): There is a significant association between the type of smart home device purchased and the customer's satisfaction level.\n",
      "    (i.e., Device Type and Customer Satisfaction are dependent.)\n"
     ]
    }
   ],
   "source": [
    "# --- Task 1: State the Hypotheses ---\n",
    "print(\"\\n--- Task 1: Hypotheses Statement ---\")\n",
    "print(\"Null Hypothesis (H0): There is no significant association between the type of smart home device purchased and the customer's satisfaction level.\")\n",
    "print(\"    (i.e., Device Type and Customer Satisfaction are independent.)\")\n",
    "print(\"Alternative Hypothesis (Ha): There is a significant association between the type of smart home device purchased and the customer's satisfaction level.\")\n",
    "print(\"    (i.e., Device Type and Customer Satisfaction are dependent.)\")"
   ]
  },
  {
   "cell_type": "code",
   "execution_count": 9,
   "id": "122147bb-2ff8-42cd-9573-dc2a4844cf67",
   "metadata": {},
   "outputs": [
    {
     "name": "stdout",
     "output_type": "stream",
     "text": [
      "\n",
      "Row Totals: [120 180 150  80  70]\n",
      "Column Totals: [240 360]\n",
      "Grand Total: 600\n",
      "\n",
      "Expected Frequencies Table:\n",
      "[[ 48.  72.]\n",
      " [ 72. 108.]\n",
      " [ 60.  90.]\n",
      " [ 32.  48.]\n",
      " [ 28.  42.]]\n",
      "\n",
      "--- Task 2: Chi-Square Statistic Calculation ---\n",
      "Calculated Chi-Square Statistic (χ²): 5.6382\n"
     ]
    }
   ],
   "source": [
    "# --- Task 2: Compute the Chi-Square Statistic ---\n",
    "\n",
    "# Calculate row totals, column totals, and grand total\n",
    "row_totals = np.sum(observed_data, axis=1)\n",
    "col_totals = np.sum(observed_data, axis=0)\n",
    "grand_total = np.sum(observed_data)\n",
    "\n",
    "print(f\"\\nRow Totals: {row_totals}\")\n",
    "print(f\"Column Totals: {col_totals}\")\n",
    "print(f\"Grand Total: {grand_total}\")\n",
    "\n",
    "# Calculate Expected Frequencies\n",
    "# E_ij = (Row Total_i * Column Total_j) / Grand Total\n",
    "expected_data = np.zeros_like(observed_data, dtype=float)\n",
    "num_rows, num_cols = observed_data.shape\n",
    "\n",
    "for i in range(num_rows):\n",
    "    for j in range(num_cols):\n",
    "        expected_data[i, j] = (row_totals[i] * col_totals[j]) / grand_total\n",
    "\n",
    "print(\"\\nExpected Frequencies Table:\")\n",
    "print(np.round(expected_data, 2)) # Round for display purposes\n",
    "\n",
    "# Calculate the Chi-Square Test Statistic\n",
    "# Chi-Square = Sum((Observed - Expected)^2 / Expected) for all cells\n",
    "chi_square_statistic = np.sum((observed_data - expected_data)**2 / expected_data)\n",
    "\n",
    "print(f\"\\n--- Task 2: Chi-Square Statistic Calculation ---\")\n",
    "print(f\"Calculated Chi-Square Statistic (χ²): {chi_square_statistic:.4f}\")"
   ]
  },
  {
   "cell_type": "code",
   "execution_count": 11,
   "id": "98f0fb83-78cb-4acb-bfc6-5d00343f1060",
   "metadata": {},
   "outputs": [
    {
     "name": "stdout",
     "output_type": "stream",
     "text": [
      "\n",
      "--- Task 3: Critical Value Determination ---\n",
      "Degrees of Freedom (df): 4\n",
      "Significance Level (α): 0.05\n",
      "Critical Value (χ²_critical): 9.4877\n"
     ]
    }
   ],
   "source": [
    "# --- Task 3: Determine the Critical Value ---\n",
    "\n",
    "# Calculate Degrees of Freedom (df)\n",
    "# df = (number of rows - 1) * (number of columns - 1)\n",
    "df = (num_rows - 1) * (num_cols - 1)\n",
    "\n",
    "# Determine the critical value from the Chi-Square distribution\n",
    "# For a Chi-Square test of independence, it's always a right-tailed test.\n",
    "critical_value = stats.chi2.ppf(1 - alpha, df)\n",
    "\n",
    "print(f\"\\n--- Task 3: Critical Value Determination ---\")\n",
    "print(f\"Degrees of Freedom (df): {df}\")\n",
    "print(f\"Significance Level (α): {alpha}\")\n",
    "print(f\"Critical Value (χ²_critical): {critical_value:.4f}\")"
   ]
  },
  {
   "cell_type": "code",
   "execution_count": 13,
   "id": "e7d99196-ae59-4854-b2ac-c607fbfca41f",
   "metadata": {},
   "outputs": [
    {
     "name": "stdout",
     "output_type": "stream",
     "text": [
      "\n",
      "--- Task 4: Decision ---\n",
      "Calculated Chi-Square Statistic (χ²_calculated): 5.6382\n",
      "Critical Value (χ²_critical): 9.4877\n",
      "Decision: Fail to Reject the Null Hypothesis (H0) because the Calculated Chi-Square Statistic (5.6382) <= Critical Value (9.4877).\n"
     ]
    }
   ],
   "source": [
    "# --- Task 4: Make a Decision ---\n",
    "print(f\"\\n--- Task 4: Decision ---\")\n",
    "print(f\"Calculated Chi-Square Statistic (χ²_calculated): {chi_square_statistic:.4f}\")\n",
    "print(f\"Critical Value (χ²_critical): {critical_value:.4f}\")\n",
    "\n",
    "if chi_square_statistic > critical_value:\n",
    "    decision = \"Reject the Null Hypothesis (H0)\"\n",
    "    print(f\"Decision: {decision} because the Calculated Chi-Square Statistic ({chi_square_statistic:.4f}) > Critical Value ({critical_value:.4f}).\")\n",
    "else:\n",
    "    decision = \"Fail to Reject the Null Hypothesis (H0)\"\n",
    "    print(f\"Decision: {decision} because the Calculated Chi-Square Statistic ({chi_square_statistic:.4f}) <= Critical Value ({critical_value:.4f}).\")\n"
   ]
  },
  {
   "cell_type": "code",
   "execution_count": 15,
   "id": "570be764-5d44-4b42-abd7-55ca2bcb290a",
   "metadata": {},
   "outputs": [
    {
     "name": "stdout",
     "output_type": "stream",
     "text": [
      "\n",
      "--- Conclusion ---\n",
      "Based on the Chi-Square Test of Independence, with a significance level of 0.05, we fail to reject the null hypothesis.\n",
      "This indicates that there is no statistically significant association between the type of smart home device purchased and the customer's satisfaction level.\n",
      "In other words, customer satisfaction levels are independent of the type of device (Smart Thermostat vs. Smart Light).\n",
      "\n",
      "For additional context, the p-value is: 0.2278\n",
      "Since p-value (0.2278) >= alpha (0.05), we fail to reject H0.\n",
      "\n",
      "--- Assumption Check ---\n",
      "Minimum Expected Frequency: 28.00\n",
      "All expected frequencies are 5 or greater, so the Chi-Square test assumptions are met.\n"
     ]
    }
   ],
   "source": [
    "# --- Task 5: Conclusion ---\n",
    "print(f\"\\n--- Conclusion ---\")\n",
    "if chi_square_statistic > critical_value:\n",
    "    print(\"Based on the Chi-Square Test of Independence, with a significance level of 0.05, we reject the null hypothesis.\")\n",
    "    print(\"This indicates that there is a statistically significant association between the type of smart home device purchased and the customer's satisfaction level.\")\n",
    "    print(\"In other words, customer satisfaction levels are dependent on the type of device (Smart Thermostat vs. Smart Light).\")\n",
    "else:\n",
    "    print(\"Based on the Chi-Square Test of Independence, with a significance level of 0.05, we fail to reject the null hypothesis.\")\n",
    "    print(\"This indicates that there is no statistically significant association between the type of smart home device purchased and the customer's satisfaction level.\")\n",
    "    print(\"In other words, customer satisfaction levels are independent of the type of device (Smart Thermostat vs. Smart Light).\")\n",
    "\n",
    "# Optional: Calculate the p-value for additional context\n",
    "p_value = stats.chi2.sf(chi_square_statistic, df) # sf is survival function (1 - cdf)\n",
    "print(f\"\\nFor additional context, the p-value is: {p_value:.4f}\")\n",
    "if p_value < alpha:\n",
    "    print(f\"Since p-value ({p_value:.4f}) < alpha ({alpha}), we reject H0.\")\n",
    "else:\n",
    "    print(f\"Since p-value ({p_value:.4f}) >= alpha ({alpha}), we fail to reject H0.\")\n",
    "\n",
    "# Check assumptions for Chi-Square Test:\n",
    "# All expected cell frequencies should be at least 5.\n",
    "# If any expected cell frequency is less than 5, the Chi-Square approximation might not be valid.\n",
    "min_expected_frequency = np.min(expected_data)\n",
    "print(f\"\\n--- Assumption Check ---\")\n",
    "print(f\"Minimum Expected Frequency: {min_expected_frequency:.2f}\")\n",
    "if min_expected_frequency < 5:\n",
    "    print(\"Warning: One or more expected frequencies are less than 5. The Chi-Square approximation may not be accurate.\")\n",
    "else:\n",
    "    print(\"All expected frequencies are 5 or greater, so the Chi-Square test assumptions are met.\")"
   ]
  }
 ],
 "metadata": {
  "kernelspec": {
   "display_name": "Python [conda env:base] *",
   "language": "python",
   "name": "conda-base-py"
  },
  "language_info": {
   "codemirror_mode": {
    "name": "ipython",
    "version": 3
   },
   "file_extension": ".py",
   "mimetype": "text/x-python",
   "name": "python",
   "nbconvert_exporter": "python",
   "pygments_lexer": "ipython3",
   "version": "3.12.7"
  }
 },
 "nbformat": 4,
 "nbformat_minor": 5
}

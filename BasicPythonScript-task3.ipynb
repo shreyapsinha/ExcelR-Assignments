{
 "cells": [
  {
   "cell_type": "code",
   "execution_count": 1,
   "id": "b6e3fcc6-c05b-4579-bc49-5ad18855a6e9",
   "metadata": {},
   "outputs": [
    {
     "name": "stdin",
     "output_type": "stream",
     "text": [
      "Enter a number to check if it's prime:  4\n"
     ]
    },
    {
     "name": "stdout",
     "output_type": "stream",
     "text": [
      "4 is NOT a prime number.\n"
     ]
    }
   ],
   "source": [
    "#Exercise 1: Prime Numbers\n",
    "#Any number less than or equal to 1 is not prime.\n",
    "#It checks for divisors only up to the square root of the number for efficiency.\n",
    "#If any divisor is found, it's not prime; otherwise, it is.\n",
    "def is_prime(n):\n",
    "    # Prime numbers are greater than 1\n",
    "    if n <= 1:\n",
    "        return False\n",
    "\n",
    "    # Check from 2 to sqrt(n)\n",
    "    for i in range(2, int(n**0.5) + 1):\n",
    "        if n % i == 0:\n",
    "            return False  # Found a divisor, not prime\n",
    "    return True  # No divisors found, it is prime\n",
    "\n",
    "\n",
    "# Ask the user for input\n",
    "try:\n",
    "    number = int(input(\"Enter a number to check if it's prime: \"))\n",
    "\n",
    "    if is_prime(number):\n",
    "        print(f\"{number} is a prime number.\")\n",
    "    else:\n",
    "        print(f\"{number} is NOT a prime number.\")\n",
    "\n",
    "except ValueError:\n",
    "    print(\"Please enter a valid integer.\")"
   ]
  },
  {
   "cell_type": "code",
   "execution_count": 3,
   "id": "f68d438d-ca85-4251-85e3-b1c1babeebdf",
   "metadata": {},
   "outputs": [],
   "source": [
    "import random"
   ]
  },
  {
   "cell_type": "code",
   "execution_count": 7,
   "id": "407ad188-5b41-4db6-862a-82c3f3d44e26",
   "metadata": {},
   "outputs": [
    {
     "name": "stdout",
     "output_type": "stream",
     "text": [
      "What is the product of 8 and 2?\n"
     ]
    },
    {
     "name": "stdin",
     "output_type": "stream",
     "text": [
      "Enter your answer:  16\n"
     ]
    },
    {
     "name": "stdout",
     "output_type": "stream",
     "text": [
      "Correct! Well done.\n"
     ]
    }
   ],
   "source": [
    "#Exercise 2 : Product of Random Numbers\n",
    "# Generate two random integers between 1 and 10\n",
    "num1 = random.randint(1, 10)\n",
    "num2 = random.randint(1, 10)\n",
    "\n",
    "# Display the question to the user\n",
    "print(f\"What is the product of {num1} and {num2}?\")\n",
    "\n",
    "try:\n",
    "    # Take user's answer as input\n",
    "    user_answer = int(input(\"Enter your answer: \"))\n",
    "\n",
    "    # Calculate the correct product\n",
    "    correct_answer = num1 * num2\n",
    "\n",
    "    # Check if user's answer is correct\n",
    "    if user_answer == correct_answer:\n",
    "        print(\"Correct! Well done.\")\n",
    "    else:\n",
    "        print(f\"Oops! The correct answer is {correct_answer}.\")\n",
    "\n",
    "except ValueError:\n",
    "    print(\"Please enter a valid integer.\")"
   ]
  },
  {
   "cell_type": "code",
   "execution_count": 11,
   "id": "c474c27e-8f99-4015-af7c-320b4f9f51fb",
   "metadata": {},
   "outputs": [
    {
     "name": "stdout",
     "output_type": "stream",
     "text": [
      "Number: 101, Square: 10201\n",
      "Number: 103, Square: 10609\n",
      "Number: 105, Square: 11025\n",
      "Number: 107, Square: 11449\n",
      "Number: 109, Square: 11881\n",
      "Number: 111, Square: 12321\n",
      "Number: 113, Square: 12769\n",
      "Number: 115, Square: 13225\n",
      "Number: 117, Square: 13689\n",
      "Number: 119, Square: 14161\n",
      "Number: 121, Square: 14641\n",
      "Number: 123, Square: 15129\n",
      "Number: 125, Square: 15625\n",
      "Number: 127, Square: 16129\n",
      "Number: 129, Square: 16641\n",
      "Number: 131, Square: 17161\n",
      "Number: 133, Square: 17689\n",
      "Number: 135, Square: 18225\n",
      "Number: 137, Square: 18769\n",
      "Number: 139, Square: 19321\n",
      "Number: 141, Square: 19881\n",
      "Number: 143, Square: 20449\n",
      "Number: 145, Square: 21025\n",
      "Number: 147, Square: 21609\n",
      "Number: 149, Square: 22201\n",
      "Number: 151, Square: 22801\n",
      "Number: 153, Square: 23409\n",
      "Number: 155, Square: 24025\n",
      "Number: 157, Square: 24649\n",
      "Number: 159, Square: 25281\n",
      "Number: 161, Square: 25921\n",
      "Number: 163, Square: 26569\n",
      "Number: 165, Square: 27225\n",
      "Number: 167, Square: 27889\n",
      "Number: 169, Square: 28561\n",
      "Number: 171, Square: 29241\n",
      "Number: 173, Square: 29929\n",
      "Number: 175, Square: 30625\n",
      "Number: 177, Square: 31329\n",
      "Number: 179, Square: 32041\n",
      "Number: 181, Square: 32761\n",
      "Number: 183, Square: 33489\n",
      "Number: 185, Square: 34225\n",
      "Number: 187, Square: 34969\n",
      "Number: 189, Square: 35721\n",
      "Number: 191, Square: 36481\n",
      "Number: 193, Square: 37249\n",
      "Number: 195, Square: 38025\n",
      "Number: 197, Square: 38809\n",
      "Number: 199, Square: 39601\n"
     ]
    }
   ],
   "source": [
    "#Exercise 3: \n",
    "#Squares of Odd Numbers (100-200)\n",
    "\n",
    "# I have chosen to work with ODD numbers in the range 100 to 200.\n",
    "# Loop through numbers from 100 to 200 (inclusive)\n",
    "for num in range(100, 201):\n",
    "    # Check if the number is odd\n",
    "    if num % 2 != 0:\n",
    "        square = num ** 2\n",
    "        print(f\"Number: {num}, Square: {square}\")"
   ]
  },
  {
   "cell_type": "code",
   "execution_count": 13,
   "id": "d7fe357c-1b56-460c-aa5d-f0630aa6b96d",
   "metadata": {},
   "outputs": [
    {
     "name": "stdout",
     "output_type": "stream",
     "text": [
      "'This': 1\n",
      "'is': 1\n",
      "'a': 1\n",
      "'sample': 1\n",
      "'text.': 1\n",
      "'I': 1\n",
      "'have': 1\n",
      "'enrolled': 1\n",
      "'into': 1\n",
      "'ExcelR': 1\n",
      "':': 1\n",
      "'Data': 1\n",
      "'Science': 1\n",
      "'+': 1\n",
      "'PowerBI': 1\n",
      "'course': 1\n"
     ]
    }
   ],
   "source": [
    "#Exercise 4:Word Counter\n",
    "# Example input text\n",
    "input_text = \"This is a sample text. I have enrolled into ExcelR : Data Science + PowerBI course\"\n",
    "\n",
    "# Split the text into words using default whitespace separator\n",
    "words = input_text.split()\n",
    "\n",
    "# Create an empty dictionary to store word counts\n",
    "word_count = {}\n",
    "\n",
    "# Loop through each word in the list\n",
    "for word in words:\n",
    "    # Check if the word is already in the dictionary\n",
    "    if word in word_count:\n",
    "        word_count[word] += 1\n",
    "    else:\n",
    "        word_count[word] = 1\n",
    "\n",
    "# Print the word counts\n",
    "for word, count in word_count.items():\n",
    "    print(f\"'{word}': {count}\")"
   ]
  },
  {
   "cell_type": "code",
   "execution_count": 17,
   "id": "b5f46fea-d33a-4493-9cf6-f6448b03576e",
   "metadata": {},
   "outputs": [
    {
     "name": "stdout",
     "output_type": "stream",
     "text": [
      "True\n",
      "True\n",
      "True\n",
      "False\n",
      "True\n",
      "False\n"
     ]
    }
   ],
   "source": [
    "#Exercise 5: Check for Palindrome\n",
    "\n",
    "def is_palindrome(input_string):\n",
    "    \"\"\"\n",
    "    Checks if a given string (letters or numbers) is a palindrome.\n",
    "    Ignores spaces, punctuation, and capitalization.\n",
    "\n",
    "    Parameters:\n",
    "        input_string (str): The string to check.\n",
    "\n",
    "    Returns:\n",
    "        bool: True if palindrome, False otherwise.\n",
    "    \"\"\"\n",
    "    # Keep only alphanumeric characters and convert to lowercase\n",
    "    cleaned = \"\"\n",
    "    for char in input_string:\n",
    "        if char.isalnum():\n",
    "            cleaned += char.lower()\n",
    "\n",
    "    # Check if cleaned string equals its reverse\n",
    "    return cleaned == cleaned[::-1] #using pyton slicing\n",
    "\n",
    "# Example usage:\n",
    "print(is_palindrome(\"racecar\"))                       # True\n",
    "print(is_palindrome(\"A man, a plan, a canal: Panama\")) # True\n",
    "print(is_palindrome(\"No lemon, no melon\"))            # True\n",
    "print(is_palindrome(\"hello\"))                         # False\n",
    "print(is_palindrome(\"12321\"))                         # True\n",
    "print(is_palindrome(\"12345\"))                         # False"
   ]
  }
 ],
 "metadata": {
  "kernelspec": {
   "display_name": "Python [conda env:base] *",
   "language": "python",
   "name": "conda-base-py"
  },
  "language_info": {
   "codemirror_mode": {
    "name": "ipython",
    "version": 3
   },
   "file_extension": ".py",
   "mimetype": "text/x-python",
   "name": "python",
   "nbconvert_exporter": "python",
   "pygments_lexer": "ipython3",
   "version": "3.12.7"
  }
 },
 "nbformat": 4,
 "nbformat_minor": 5
}

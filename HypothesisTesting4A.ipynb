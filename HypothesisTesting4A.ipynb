{
 "cells": [
  {
   "cell_type": "code",
   "execution_count": 1,
   "id": "97fcd7a8-46ea-4823-826a-279fbfb4be02",
   "metadata": {},
   "outputs": [],
   "source": [
    "import scipy.stats as stats\n",
    "import numpy as np"
   ]
  },
  {
   "cell_type": "code",
   "execution_count": 3,
   "id": "dc17f17c-402c-4abc-a29d-0003ac67f818",
   "metadata": {},
   "outputs": [
    {
     "name": "stdout",
     "output_type": "stream",
     "text": [
      "Theoretical mean weekly cost (mu): Rs. 4000\n"
     ]
    }
   ],
   "source": [
    "# --- Given Data ---\n",
    "sample_mean_W = 3050  # Sample mean weekly cost (Rs.)\n",
    "n = 25               # Sample size\n",
    "mu_X = 600           # Mean of units produced (X)\n",
    "sigma_X = 25         # Standard deviation of units produced (X)\n",
    "alpha = 0.05         # Significance level\n",
    "# --- Task 1: Calculate the Theoretical Mean Weekly Cost (mu) ---\n",
    "# The theoretical weekly operating cost model is W = $1,000 + $5X\n",
    "# Since X has a mean (mu_X) of 600, the theoretical mean weekly cost (mu)\n",
    "# under the model would be 1000 + 5 * mu_X\n",
    "mu_theoretical = 1000 + 5 * mu_X\n",
    "print(f\"Theoretical mean weekly cost (mu): Rs. {mu_theoretical}\")"
   ]
  },
  {
   "cell_type": "code",
   "execution_count": 5,
   "id": "1af33618-c1ec-47fa-a15e-fc62ac93550d",
   "metadata": {},
   "outputs": [
    {
     "name": "stdout",
     "output_type": "stream",
     "text": [
      "\n",
      "--- Task 2: Hypotheses Statement ---\n",
      "Null Hypothesis (H0): The true mean weekly operating cost is <= Rs. 4000\n",
      "Alternative Hypothesis (Ha): The true mean weekly operating cost is > Rs. 4000 (Restaurant owners' claim)\n"
     ]
    }
   ],
   "source": [
    "# --- Task 2: State the Hypotheses Statement ---\n",
    "# The restaurant owners claim that their observed weekly operating costs are higher.\n",
    "# This suggests a one-tailed (right-tailed) test.\n",
    "\n",
    "# Null Hypothesis (H0): The true mean weekly operating cost is equal to or less than the theoretical model's prediction.\n",
    "# H0: mu <= Rs. 4000\n",
    "# Alternative Hypothesis (Ha): The true mean weekly operating cost is higher than the theoretical model's prediction.\n",
    "# Ha: mu > Rs. 4000\n",
    "print(\"\\n--- Task 2: Hypotheses Statement ---\")\n",
    "print(f\"Null Hypothesis (H0): The true mean weekly operating cost is <= Rs. {mu_theoretical}\")\n",
    "print(f\"Alternative Hypothesis (Ha): The true mean weekly operating cost is > Rs. {mu_theoretical} (Restaurant owners' claim)\")"
   ]
  },
  {
   "cell_type": "code",
   "execution_count": 9,
   "id": "8ccc7e20-d3f9-4829-9c54-55f485976d1d",
   "metadata": {},
   "outputs": [
    {
     "name": "stdout",
     "output_type": "stream",
     "text": [
      "\n",
      "Calculated Standard Deviation of Weekly Cost (sigma_W): 125\n",
      "\n",
      "--- Task 3: Test Statistic Calculation ---\n",
      "Sample Mean Weekly Cost (ˉx): Rs. 3050\n",
      "Theoretical Mean Weekly Cost (μ): Rs. 4000\n",
      "Population Standard Deviation of Weekly Cost (σ): Rs. 125\n",
      "Sample Size (n): 25\n",
      "Calculated Test Statistic (Z): -38.0000\n"
     ]
    }
   ],
   "source": [
    "# --- Task 3: Calculate the Test Statistic ---\n",
    "# The formula given for the test statistic is:\n",
    "# t = (ˉx - μ) / (σ / sqrt(n))\n",
    "# Note: The problem statement explicitly provides \"σ = 5*25 units\". This implies the standard deviation of W.\n",
    "# Let's verify this interpretation.\n",
    "# If W = a + bX, then Var(W) = b^2 * Var(X) and StdDev(W) = |b| * StdDev(X).\n",
    "# Here, b = 5, and StdDev(X) = 25. So, StdDev(W) = 5 * 25 = 125.\n",
    "# This matches the given \"σ = 5*25 units\" for the formula.\n",
    "\n",
    "sigma_W = 5 * sigma_X # Standard deviation of the weekly operating cost (W)\n",
    "print(f\"\\nCalculated Standard Deviation of Weekly Cost (sigma_W): {sigma_W}\")\n",
    "# Calculate the test statistic (using Z-test as n is large enough and sigma is known/derived)\n",
    "# Although the formula uses 't', given sigma is effectively known (derived from X's sigma) and n=25\n",
    "# (often considered borderline for t vs Z, but with a known population sigma it's a Z-test),\n",
    "# we will proceed with the Z-test interpretation which aligns with using the Z-distribution table for critical value.\n",
    "# In many practical cases, for n >= 30, Z-distribution is used; for n < 30 and population std dev unknown, t-distribution.\n",
    "# Here, the population standard deviation of W (sigma_W = 125) is derived/known from the model's parameters and X's std dev.\n",
    "# So, it's appropriate to use a Z-test.\n",
    "\n",
    "test_statistic = (sample_mean_W - mu_theoretical) / (sigma_W / np.sqrt(n))\n",
    "print(f\"\\n--- Task 3: Test Statistic Calculation ---\")\n",
    "print(f\"Sample Mean Weekly Cost (ˉx): Rs. {sample_mean_W}\")\n",
    "print(f\"Theoretical Mean Weekly Cost (μ): Rs. {mu_theoretical}\")\n",
    "print(f\"Population Standard Deviation of Weekly Cost (σ): Rs. {sigma_W}\")\n",
    "print(f\"Sample Size (n): {n}\")\n",
    "print(f\"Calculated Test Statistic (Z): {test_statistic:.4f}\")"
   ]
  },
  {
   "cell_type": "code",
   "execution_count": 11,
   "id": "5c4276a5-f62a-44d5-a019-1fa12b5de38b",
   "metadata": {},
   "outputs": [
    {
     "name": "stdout",
     "output_type": "stream",
     "text": [
      "\n",
      "--- Task 4: Critical Value Determination ---\n",
      "Significance Level (α): 0.05\n",
      "Critical Value (Z_critical) for a one-tailed (right-tailed) test: 1.6449\n"
     ]
    }
   ],
   "source": [
    "# --- Task 4: Determine the Critical Value ---\n",
    "# For a one-tailed (right-tailed) test with alpha = 0.05 from the standard normal (Z) distribution.\n",
    "critical_value_Z = stats.norm.ppf(1 - alpha) # ppf is percent point function (inverse of cdf)\n",
    "print(f\"\\n--- Task 4: Critical Value Determination ---\")\n",
    "print(f\"Significance Level (α): {alpha}\")\n",
    "print(f\"Critical Value (Z_critical) for a one-tailed (right-tailed) test: {critical_value_Z:.4f}\")"
   ]
  },
  {
   "cell_type": "code",
   "execution_count": 13,
   "id": "a0de5067-c88f-4507-b08b-04f2ded748d8",
   "metadata": {},
   "outputs": [
    {
     "name": "stdout",
     "output_type": "stream",
     "text": [
      "\n",
      "--- Task 5: Decision ---\n",
      "Test Statistic (Z_calculated): -38.0000\n",
      "Critical Value (Z_critical): 1.6449\n",
      "Decision: Fail to Reject the Null Hypothesis (H0) because the Test Statistic (-38.0000) <= Critical Value (1.6449).\n"
     ]
    }
   ],
   "source": [
    "# --- Task 5: Make a Decision ---\n",
    "print(f\"\\n--- Task 5: Decision ---\")\n",
    "print(f\"Test Statistic (Z_calculated): {test_statistic:.4f}\")\n",
    "print(f\"Critical Value (Z_critical): {critical_value_Z:.4f}\")\n",
    "\n",
    "if test_statistic > critical_value_Z:\n",
    "    decision = \"Reject the Null Hypothesis (H0)\"\n",
    "    print(f\"Decision: {decision} because the Test Statistic ({test_statistic:.4f}) > Critical Value ({critical_value_Z:.4f}).\")\n",
    "else:\n",
    "    decision = \"Fail to Reject the Null Hypothesis (H0)\"\n",
    "    print(f\"Decision: {decision} because the Test Statistic ({test_statistic:.4f}) <= Critical Value ({critical_value_Z:.4f}).\")"
   ]
  },
  {
   "cell_type": "code",
   "execution_count": 15,
   "id": "274221e2-e8f0-4efb-aaab-5722771ca89f",
   "metadata": {},
   "outputs": [
    {
     "name": "stdout",
     "output_type": "stream",
     "text": [
      "\n",
      "--- Task 6: Conclusion ---\n",
      "Based on the analysis, with a significance level of 5%, there is not enough statistical evidence to support the restaurant owners' claim.\n",
      "It suggests that the observed weekly operating costs are not significantly higher than the theoretical model's prediction of Rs. 4000.\n"
     ]
    }
   ],
   "source": [
    "# --- Task 6: Conclusion ---\n",
    "print(f\"\\n--- Task 6: Conclusion ---\")\n",
    "if test_statistic > critical_value_Z:\n",
    "    print(\"Based on the analysis, with a significance level of 5%, there is sufficient statistical evidence to support the restaurant owners' claim.\")\n",
    "    print(f\"It suggests that the true mean weekly operating costs are significantly higher than the theoretical model's prediction of Rs. {mu_theoretical}.\")\n",
    "else:\n",
    "    print(\"Based on the analysis, with a significance level of 5%, there is not enough statistical evidence to support the restaurant owners' claim.\")\n",
    "    print(f\"It suggests that the observed weekly operating costs are not significantly higher than the theoretical model's prediction of Rs. {mu_theoretical}.\")"
   ]
  }
 ],
 "metadata": {
  "kernelspec": {
   "display_name": "Python [conda env:base] *",
   "language": "python",
   "name": "conda-base-py"
  },
  "language_info": {
   "codemirror_mode": {
    "name": "ipython",
    "version": 3
   },
   "file_extension": ".py",
   "mimetype": "text/x-python",
   "name": "python",
   "nbconvert_exporter": "python",
   "pygments_lexer": "ipython3",
   "version": "3.12.7"
  }
 },
 "nbformat": 4,
 "nbformat_minor": 5
}

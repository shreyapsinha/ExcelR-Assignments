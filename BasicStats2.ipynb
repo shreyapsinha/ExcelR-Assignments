{
 "cells": [
  {
   "cell_type": "code",
   "execution_count": 1,
   "id": "52c5ae12-e8e2-4ef5-90c5-5565ffa608f1",
   "metadata": {},
   "outputs": [],
   "source": [
    "import numpy as np\n",
    "from scipy import stats"
   ]
  },
  {
   "cell_type": "code",
   "execution_count": 3,
   "id": "795f77ce-ad89-4c2d-a787-92cd164098a5",
   "metadata": {},
   "outputs": [],
   "source": [
    "# We are dealing with a small sample and want to estimate mean durability (number of characters printed before failure) for print-heads\n",
    "data = np.array([\n",
    "    1.13, 1.55, 1.43, 0.92, 1.25, \n",
    "    1.36, 1.32, 0.85, 1.07, 1.48, \n",
    "    1.20, 1.33, 1.18, 1.22, 1.29\n",
    "])"
   ]
  },
  {
   "cell_type": "code",
   "execution_count": 5,
   "id": "3a6ba088-4fd1-46a9-89ba-74ed443602ca",
   "metadata": {},
   "outputs": [
    {
     "name": "stdout",
     "output_type": "stream",
     "text": [
      "Sample Mean: 1.2387\n",
      "Sample Standard Deviation: 0.1932\n"
     ]
    }
   ],
   "source": [
    "# Sample size\n",
    "n = len(data)\n",
    "\n",
    "# 1. Calculate the sample mean\n",
    "sample_mean = np.mean(data)\n",
    "\n",
    "# 2. Calculate the sample standard deviation (ddof=1 for sample standard deviation)\n",
    "sample_std = np.std(data, ddof=1)\n",
    "\n",
    "print(f\"Sample Mean: {sample_mean:.4f}\")\n",
    "print(f\"Sample Standard Deviation: {sample_std:.4f}\")"
   ]
  },
  {
   "cell_type": "code",
   "execution_count": 13,
   "id": "cff698b9-57cf-4fc0-801a-f0c54dea98f5",
   "metadata": {},
   "outputs": [
    {
     "name": "stdout",
     "output_type": "stream",
     "text": [
      "\n",
      "99% Confidence Interval using t-distribution (σ unknown):\n",
      "Lower Limit = 1.0902\n",
      "Upper Limit = 1.3871\n"
     ]
    }
   ],
   "source": [
    "# PART (a) – CONFIDENCE INTERVAL USING t-DISTRIBUTION\n",
    "\n",
    "# We use t-distribution as we do not know the true population standard deviation.\n",
    "# Our sample size is small (n = 15 < 30).\n",
    "\n",
    "# Confidence level\n",
    "confidence_level = 0.99\n",
    "\n",
    "# Degrees of freedom\n",
    "df = n - 1\n",
    "\n",
    "# Find the t-critical value\n",
    "t_critical = stats.t.ppf(1 - (1 - confidence_level) / 2, df)\n",
    "# Calculate standard error\n",
    "standard_error_t = sample_std / np.sqrt(n)\n",
    "# Calculate margin of error\n",
    "margin_of_error_t = t_critical * standard_error_t\n",
    "# Compute confidence interval\n",
    "lower_t = sample_mean - margin_of_error_t\n",
    "upper_t = sample_mean + margin_of_error_t\n",
    "\n",
    "print(\"\\n99% Confidence Interval using t-distribution (σ unknown):\")\n",
    "print(f\"Lower Limit = {lower_t:.4f}\")\n",
    "print(f\"Upper Limit = {upper_t:.4f}\")"
   ]
  },
  {
   "cell_type": "code",
   "execution_count": 15,
   "id": "f92e457c-363c-4b93-8f2c-3d97446cf16d",
   "metadata": {},
   "outputs": [
    {
     "name": "stdout",
     "output_type": "stream",
     "text": [
      "\n",
      "99% Confidence Interval using z-distribution (σ known = 0.2):\n",
      "Lower Limit = 1.1057\n",
      "Upper Limit = 1.3717\n"
     ]
    }
   ],
   "source": [
    "#We are 99% confident that the true mean durability of the print-heads is between 1.0902 and 1.3871 million characters.\n",
    "\n",
    "# PART (b) – CONFIDENCE INTERVAL USING z-DISTRIBUTION\n",
    "\n",
    "# Known population standard deviation\n",
    "sigma = 0.2\n",
    "\n",
    "# Find the z-critical value\n",
    "z_critical = stats.norm.ppf(1 - (1 - confidence_level) / 2)\n",
    "\n",
    "# Calculate standard error using population standard deviation\n",
    "standard_error_z = sigma / np.sqrt(n)\n",
    "\n",
    "# Calculate margin of error\n",
    "margin_of_error_z = z_critical * standard_error_z\n",
    "\n",
    "# Compute confidence interval\n",
    "lower_z = sample_mean - margin_of_error_z\n",
    "upper_z = sample_mean + margin_of_error_z\n",
    "\n",
    "print(\"\\n99% Confidence Interval using z-distribution (σ known = 0.2):\")\n",
    "print(f\"Lower Limit = {lower_z:.4f}\")\n",
    "print(f\"Upper Limit = {upper_z:.4f}\")"
   ]
  },
  {
   "cell_type": "code",
   "execution_count": null,
   "id": "43eb1c43-920d-4886-a247-95b313c22ae0",
   "metadata": {},
   "outputs": [],
   "source": [
    "#if the population standard deviation were known to be 0.2 million characters, we would be 99% confident that the true mean durability of the print-heads is between 1.1057 million and 1.3717 million characters."
   ]
  }
 ],
 "metadata": {
  "kernelspec": {
   "display_name": "Python [conda env:base] *",
   "language": "python",
   "name": "conda-base-py"
  },
  "language_info": {
   "codemirror_mode": {
    "name": "ipython",
    "version": 3
   },
   "file_extension": ".py",
   "mimetype": "text/x-python",
   "name": "python",
   "nbconvert_exporter": "python",
   "pygments_lexer": "ipython3",
   "version": "3.12.7"
  }
 },
 "nbformat": 4,
 "nbformat_minor": 5
}
